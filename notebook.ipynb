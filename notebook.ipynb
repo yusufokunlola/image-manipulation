{
 "cells": [
  {
   "cell_type": "markdown",
   "metadata": {},
   "source": [
    "## Image Processing Pipeline with PIL\n",
    "<p>Pillow (PIL) has a number of common image manipulation tasks built into the library.</p>\n",
    "<p>The Image module is used to represent a PIL image. The module also provides a number of factory functions, including functions to load images from files, and to create new images. The documentation for <a href=\"https://pillow.readthedocs.io/en/stable/reference/Image.html\">Image</a> in Pillow gives a comprehensive view of what this object can do.</p>\n",
    "\n",
    "<p>Operations that Pillow provides include:</p>\n",
    "<ul>\n",
    "<li>resizing</li>\n",
    "<li>cropping</li>\n",
    "<li>rotating</li>\n",
    "<li>flipping</li>\n",
    "<li>converting to grayscale</li>\n",
    "</ul>\n",
    "\n",
    "<p>These kinds of manipulations are part of the pipeline for turning a small number of images into more images to create training data for machine learning algorithms. This technique is called <a href=\"http://cs231n.stanford.edu/reports/2017/pdfs/300.pdf\">data augmentation</a>, and it is a common technique for image classification.</p>\n",
    "\n",
    "\n",
    "<p>This pipeline does the following:</p>\n",
    "<ul>\n",
    "<li>Load the image with <code>Image.open</code> and create paths to save our images to</li>\n",
    "<li>Convert the image to grayscale</li>\n",
    "<li>Save the grayscale image</li>\n",
    "<li>Rotate, crop, and zoom in on the image and save the new image</li>\n",
    "</ul>"
   ]
  },
  {
   "cell_type": "code",
   "execution_count": 1,
   "metadata": {},
   "outputs": [
    {
     "name": "stdout",
     "output_type": "stream",
     "text": [
      "Creating grayscale version of datasets\\olu_yomi.JPG and saving to saved_images/bw_olu_yomi.jpg.\n",
      "Creating rotated, cropped, and zoomed version of datasets\\olu_yomi.JPG and saving to saved_images/rcz_olu_yomi.jpg.\n",
      "Creating grayscale version of datasets\\abayomi.jpg and saving to saved_images/bw_abayomi.jpg.\n",
      "Creating rotated, cropped, and zoomed version of datasets\\abayomi.jpg and saving to saved_images/rcz_abayomi.jpg.\n"
     ]
    }
   ],
   "source": [
    "# Import the Image librarry from Pillow module\n",
    "from PIL import Image\n",
    "\n",
    "# Used to change filepaths\n",
    "from pathlib import Path\n",
    "\n",
    "# import images\n",
    "image_paths = ['datasets/olu_yomi.JPG', 'datasets/abayomi.jpg']\n",
    "\n",
    "\n",
    "# create image processing pipeline\n",
    "def process_image(path):\n",
    "    img = Image.open(path)\n",
    "\n",
    "    # create paths to save files to\n",
    "    bw_path = \"saved_images/bw_{}.jpg\".format(path.stem)\n",
    "    rcz_path = \"saved_images/rcz_{}.jpg\".format(path.stem)\n",
    "\n",
    "    print(\"Creating grayscale version of {} and saving to {}.\".format(path, bw_path))\n",
    "    # convert image to grayscale\n",
    "    bw = img.convert('L')\n",
    "    \n",
    "    # save converted image to path\n",
    "    bw.save(bw_path)\n",
    "    \n",
    "    print(\"Creating rotated, cropped, and zoomed version of {} and saving to {}.\".format(path, rcz_path))\n",
    "    # rotate, crop and resize grayscale image\n",
    "    rcz = bw.rotate(45).crop([25, 25, 75, 75]).resize((100, 100))\n",
    "    \n",
    "    # save manipulated image to path\n",
    "    rcz.save(rcz_path)\n",
    "       \n",
    "# for loop over image paths\n",
    "for img_path in image_paths:\n",
    "    process_image(Path(img_path))\n",
    "    \n",
    "# Congratulations, you just finished manipulating images with the Pillow library.\n",
    "# The manipulated images can be found in the \"saved_images\" folder"
   ]
  }
 ],
 "metadata": {
  "kernelspec": {
   "display_name": "Python 3.9.13 64-bit (system)",
   "language": "python",
   "name": "python3"
  },
  "language_info": {
   "codemirror_mode": {
    "name": "ipython",
    "version": 3
   },
   "file_extension": ".py",
   "mimetype": "text/x-python",
   "name": "python",
   "nbconvert_exporter": "python",
   "pygments_lexer": "ipython3",
   "version": "3.9.13"
  },
  "orig_nbformat": 4,
  "vscode": {
   "interpreter": {
    "hash": "82ed002fa2d4956f5c6aec99bcefe0f73a9f79882f3c9e2319b14958a5896ac5"
   }
  }
 },
 "nbformat": 4,
 "nbformat_minor": 2
}
